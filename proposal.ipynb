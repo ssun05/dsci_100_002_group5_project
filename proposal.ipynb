{
 "cells": [
  {
   "cell_type": "markdown",
   "id": "b40126f5-0a6e-49dd-89bc-15491d4dbf85",
   "metadata": {},
   "source": [
    "## Cardiovascular Risk Prediction in the Male Swiss Population: A Predictive Analysis of Diagnosis Levels"
   ]
  },
  {
   "cell_type": "markdown",
   "id": "3df2cc4f-56ff-48e9-b34e-546997298595",
   "metadata": {},
   "source": [
    "## Introduction"
   ]
  },
  {
   "cell_type": "markdown",
   "id": "04770a2f-3416-44d3-93e8-d895988e37c9",
   "metadata": {},
   "source": [
    "Bckground: Coronary diseases pose significant health challenges, requiring precise predictive models. In Switzerland, understanding diagnostic factors, particularly among males, is crucial. Utilizing a discriminant function model dataset, this study focuses on the relationship between age, maximum heart rate, and male diagnosis levels in Switzerland. The unique healthcare landscape and lifestyle factors make this exploration essential for tailored interventions and improved cardiovascular risk assessment in the Swiss male population.\n",
    "Predictive question: How do age and maximum heart rate as predictor variables influence the likelihood of heart disease diagnosis in males within the Swiss population?\n",
    "Dataset: The dataset for this analysis is derived from a discriminant function model, initially developed using clinical and noninvasive test results from 303 patients undergoing angiography at the Cleveland Clinic. Subsequently applied to diverse patient groups, including 143 patients from University Hospitals in Zurich and Basel, Switzerland, the dataset encompasses variables such as age, sex, chest pain, resting blood pressure, cholesterol levels,  maximum heart rate and other relevant features for predicting male diagnosis levels in the Swiss context."
   ]
  },
  {
   "cell_type": "markdown",
   "id": "2f050871-cdd9-4544-9d2d-14fe3b445c35",
   "metadata": {},
   "source": [
    "## Prelim Analysis"
   ]
  },
  {
   "cell_type": "code",
   "execution_count": 1,
   "id": "f08fdb83-3d8f-4abd-8a51-e0ccf9787a45",
   "metadata": {},
   "outputs": [],
   "source": [
    "# reading and wrangling"
   ]
  },
  {
   "cell_type": "code",
   "execution_count": 2,
   "id": "8f1c7b93-eb14-49c5-8b2e-de1577653d8f",
   "metadata": {},
   "outputs": [],
   "source": [
    "# summary - table "
   ]
  },
  {
   "cell_type": "code",
   "execution_count": 3,
   "id": "6ba9fb2f-a054-4878-8e6e-93e0bdf495bc",
   "metadata": {},
   "outputs": [],
   "source": [
    "# summary - eg. predictor distributions"
   ]
  },
  {
   "cell_type": "markdown",
   "id": "b1fe6371-3d58-41b5-9971-e44326c4fc3f",
   "metadata": {},
   "source": [
    "## Methods"
   ]
  },
  {
   "cell_type": "markdown",
   "id": "38132a33-49f8-4e2c-8e9d-eb2f41ec8326",
   "metadata": {},
   "source": [
    "## Expected Outcomes and Significance"
   ]
  },
  {
   "cell_type": "code",
   "execution_count": null,
   "id": "a90799ce-dba4-4ca1-b34a-5673e66981e6",
   "metadata": {},
   "outputs": [],
   "source": []
  }
 ],
 "metadata": {
  "kernelspec": {
   "display_name": "R",
   "language": "R",
   "name": "ir"
  },
  "language_info": {
   "codemirror_mode": "r",
   "file_extension": ".r",
   "mimetype": "text/x-r-source",
   "name": "R",
   "pygments_lexer": "r",
   "version": "4.3.1"
  }
 },
 "nbformat": 4,
 "nbformat_minor": 5
}
