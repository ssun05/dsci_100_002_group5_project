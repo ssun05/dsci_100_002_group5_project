{
 "cells": [
  {
   "cell_type": "markdown",
   "id": "4d3a0e86",
   "metadata": {},
   "source": [
    "## Cardiovascular Risk Prediction in Cleveland Population: A Predictive Analysis of Heart Disease Occurance"
   ]
  },
  {
   "cell_type": "markdown",
   "id": "17a1c23f",
   "metadata": {},
   "source": [
    "## Introduction"
   ]
  },
  {
   "cell_type": "markdown",
   "id": "90251db7",
   "metadata": {},
   "source": [
    "Background: Coronary diseases pose significant health challenges, requiring precise predictive models. In Cleveland, understanding diagnostic factors is crucial. Utilizing a discriminant function model dataset, this study focuses on the relationship between age, maximum heart rate, and diagnosis levels in Cleveland. The unique healthcare landscape and lifestyle factors make this exploration essential for tailored interventions and improved cardiovascular risk assessment in the Cleveland population. Thus, this project will explore the following question: Can maximum heart rate and age be used to predict heart disease in Clevelanders?\n",
    "\n",
    "The dataset for this analysis is derived from a discriminant function model, initially developed using clinical and noninvasive test results from 303 patients undergoing angiography at the Cleveland Clinic. Subsequently applied to diverse patient groups, the dataset encompasses variables such as age, sex, chest pain, resting blood pressure, cholesterol levels,  maximum heart rate and other relevant features for predicting diagnosis levels in the Cleveland."
   ]
  },
  {
   "cell_type": "markdown",
   "id": "3b7348e8",
   "metadata": {},
   "source": [
    "## Prelim Analysis"
   ]
  },
  {
   "cell_type": "code",
   "execution_count": 1,
   "id": "74a09088-576f-4e7b-a2b7-331514368f00",
   "metadata": {},
   "outputs": [
    {
     "name": "stderr",
     "output_type": "stream",
     "text": [
      "── \u001b[1mAttaching core tidyverse packages\u001b[22m ──────────────────────── tidyverse 2.0.0 ──\n",
      "\u001b[32m✔\u001b[39m \u001b[34mdplyr    \u001b[39m 1.1.3     \u001b[32m✔\u001b[39m \u001b[34mreadr    \u001b[39m 2.1.4\n",
      "\u001b[32m✔\u001b[39m \u001b[34mforcats  \u001b[39m 1.0.0     \u001b[32m✔\u001b[39m \u001b[34mstringr  \u001b[39m 1.5.0\n",
      "\u001b[32m✔\u001b[39m \u001b[34mggplot2  \u001b[39m 3.4.4     \u001b[32m✔\u001b[39m \u001b[34mtibble   \u001b[39m 3.2.1\n",
      "\u001b[32m✔\u001b[39m \u001b[34mlubridate\u001b[39m 1.9.3     \u001b[32m✔\u001b[39m \u001b[34mtidyr    \u001b[39m 1.3.0\n",
      "\u001b[32m✔\u001b[39m \u001b[34mpurrr    \u001b[39m 1.0.2     \n",
      "── \u001b[1mConflicts\u001b[22m ────────────────────────────────────────── tidyverse_conflicts() ──\n",
      "\u001b[31m✖\u001b[39m \u001b[34mdplyr\u001b[39m::\u001b[32mfilter()\u001b[39m masks \u001b[34mstats\u001b[39m::filter()\n",
      "\u001b[31m✖\u001b[39m \u001b[34mdplyr\u001b[39m::\u001b[32mlag()\u001b[39m    masks \u001b[34mstats\u001b[39m::lag()\n",
      "\u001b[36mℹ\u001b[39m Use the conflicted package (\u001b[3m\u001b[34m<http://conflicted.r-lib.org/>\u001b[39m\u001b[23m) to force all conflicts to become errors\n",
      "── \u001b[1mAttaching packages\u001b[22m ────────────────────────────────────── tidymodels 1.1.1 ──\n",
      "\n",
      "\u001b[32m✔\u001b[39m \u001b[34mbroom       \u001b[39m 1.0.5     \u001b[32m✔\u001b[39m \u001b[34mrsample     \u001b[39m 1.2.0\n",
      "\u001b[32m✔\u001b[39m \u001b[34mdials       \u001b[39m 1.2.0     \u001b[32m✔\u001b[39m \u001b[34mtune        \u001b[39m 1.1.2\n",
      "\u001b[32m✔\u001b[39m \u001b[34minfer       \u001b[39m 1.0.5     \u001b[32m✔\u001b[39m \u001b[34mworkflows   \u001b[39m 1.1.3\n",
      "\u001b[32m✔\u001b[39m \u001b[34mmodeldata   \u001b[39m 1.2.0     \u001b[32m✔\u001b[39m \u001b[34mworkflowsets\u001b[39m 1.0.1\n",
      "\u001b[32m✔\u001b[39m \u001b[34mparsnip     \u001b[39m 1.1.1     \u001b[32m✔\u001b[39m \u001b[34myardstick   \u001b[39m 1.2.0\n",
      "\u001b[32m✔\u001b[39m \u001b[34mrecipes     \u001b[39m 1.0.8     \n",
      "\n",
      "── \u001b[1mConflicts\u001b[22m ───────────────────────────────────────── tidymodels_conflicts() ──\n",
      "\u001b[31m✖\u001b[39m \u001b[34mscales\u001b[39m::\u001b[32mdiscard()\u001b[39m masks \u001b[34mpurrr\u001b[39m::discard()\n",
      "\u001b[31m✖\u001b[39m \u001b[34mdplyr\u001b[39m::\u001b[32mfilter()\u001b[39m   masks \u001b[34mstats\u001b[39m::filter()\n",
      "\u001b[31m✖\u001b[39m \u001b[34mrecipes\u001b[39m::\u001b[32mfixed()\u001b[39m  masks \u001b[34mstringr\u001b[39m::fixed()\n",
      "\u001b[31m✖\u001b[39m \u001b[34mdplyr\u001b[39m::\u001b[32mlag()\u001b[39m      masks \u001b[34mstats\u001b[39m::lag()\n",
      "\u001b[31m✖\u001b[39m \u001b[34myardstick\u001b[39m::\u001b[32mspec()\u001b[39m masks \u001b[34mreadr\u001b[39m::spec()\n",
      "\u001b[31m✖\u001b[39m \u001b[34mrecipes\u001b[39m::\u001b[32mstep()\u001b[39m   masks \u001b[34mstats\u001b[39m::step()\n",
      "\u001b[34m•\u001b[39m Learn how to get started at \u001b[32mhttps://www.tidymodels.org/start/\u001b[39m\n",
      "\n"
     ]
    }
   ],
   "source": [
    "library(tidyverse)\n",
    "library(repr)\n",
    "library(tidymodels)\n",
    "options(repr.matrix.max.rows = 6)"
   ]
  },
  {
   "cell_type": "code",
   "execution_count": 2,
   "id": "f2013dae",
   "metadata": {},
   "outputs": [
    {
     "name": "stderr",
     "output_type": "stream",
     "text": [
      "\u001b[1mRows: \u001b[22m\u001b[34m303\u001b[39m \u001b[1mColumns: \u001b[22m\u001b[34m14\u001b[39m\n",
      "\u001b[36m──\u001b[39m \u001b[1mColumn specification\u001b[22m \u001b[36m────────────────────────────────────────────────────────\u001b[39m\n",
      "\u001b[1mDelimiter:\u001b[22m \",\"\n",
      "\u001b[31mchr\u001b[39m  (2): ca, thal\n",
      "\u001b[32mdbl\u001b[39m (12): age, sex, chest_pain, trestbps, chol, fasting_bld_sgar, restecg, m...\n",
      "\n",
      "\u001b[36mℹ\u001b[39m Use `spec()` to retrieve the full column specification for this data.\n",
      "\u001b[36mℹ\u001b[39m Specify the column types or set `show_col_types = FALSE` to quiet this message.\n"
     ]
    },
    {
     "data": {
      "text/html": [
       "<table class=\"dataframe\">\n",
       "<caption>A spec_tbl_df: 303 × 14</caption>\n",
       "<thead>\n",
       "\t<tr><th scope=col>age</th><th scope=col>sex</th><th scope=col>chest_pain</th><th scope=col>trestbps</th><th scope=col>chol</th><th scope=col>fasting_bld_sgar</th><th scope=col>restecg</th><th scope=col>max_heart_rate</th><th scope=col>exerc_angina</th><th scope=col>oldpeak</th><th scope=col>slope</th><th scope=col>ca</th><th scope=col>thal</th><th scope=col>diagnosis</th></tr>\n",
       "\t<tr><th scope=col>&lt;dbl&gt;</th><th scope=col>&lt;dbl&gt;</th><th scope=col>&lt;dbl&gt;</th><th scope=col>&lt;dbl&gt;</th><th scope=col>&lt;dbl&gt;</th><th scope=col>&lt;dbl&gt;</th><th scope=col>&lt;dbl&gt;</th><th scope=col>&lt;dbl&gt;</th><th scope=col>&lt;dbl&gt;</th><th scope=col>&lt;dbl&gt;</th><th scope=col>&lt;dbl&gt;</th><th scope=col>&lt;chr&gt;</th><th scope=col>&lt;chr&gt;</th><th scope=col>&lt;dbl&gt;</th></tr>\n",
       "</thead>\n",
       "<tbody>\n",
       "\t<tr><td>63</td><td>1</td><td>1</td><td>145</td><td>233</td><td>1</td><td>2</td><td>150</td><td>0</td><td>2.3</td><td>3</td><td>0.0</td><td>6.0</td><td>0</td></tr>\n",
       "\t<tr><td>67</td><td>1</td><td>4</td><td>160</td><td>286</td><td>0</td><td>2</td><td>108</td><td>1</td><td>1.5</td><td>2</td><td>3.0</td><td>3.0</td><td>2</td></tr>\n",
       "\t<tr><td>67</td><td>1</td><td>4</td><td>120</td><td>229</td><td>0</td><td>2</td><td>129</td><td>1</td><td>2.6</td><td>2</td><td>2.0</td><td>7.0</td><td>1</td></tr>\n",
       "\t<tr><td>⋮</td><td>⋮</td><td>⋮</td><td>⋮</td><td>⋮</td><td>⋮</td><td>⋮</td><td>⋮</td><td>⋮</td><td>⋮</td><td>⋮</td><td>⋮</td><td>⋮</td><td>⋮</td></tr>\n",
       "\t<tr><td>57</td><td>1</td><td>4</td><td>130</td><td>131</td><td>0</td><td>0</td><td>115</td><td>1</td><td>1.2</td><td>2</td><td>1.0</td><td>7.0</td><td>3</td></tr>\n",
       "\t<tr><td>57</td><td>0</td><td>2</td><td>130</td><td>236</td><td>0</td><td>2</td><td>174</td><td>0</td><td>0.0</td><td>2</td><td>1.0</td><td>3.0</td><td>1</td></tr>\n",
       "\t<tr><td>38</td><td>1</td><td>3</td><td>138</td><td>175</td><td>0</td><td>0</td><td>173</td><td>0</td><td>0.0</td><td>1</td><td>?  </td><td>3.0</td><td>0</td></tr>\n",
       "</tbody>\n",
       "</table>\n"
      ],
      "text/latex": [
       "A spec\\_tbl\\_df: 303 × 14\n",
       "\\begin{tabular}{llllllllllllll}\n",
       " age & sex & chest\\_pain & trestbps & chol & fasting\\_bld\\_sgar & restecg & max\\_heart\\_rate & exerc\\_angina & oldpeak & slope & ca & thal & diagnosis\\\\\n",
       " <dbl> & <dbl> & <dbl> & <dbl> & <dbl> & <dbl> & <dbl> & <dbl> & <dbl> & <dbl> & <dbl> & <chr> & <chr> & <dbl>\\\\\n",
       "\\hline\n",
       "\t 63 & 1 & 1 & 145 & 233 & 1 & 2 & 150 & 0 & 2.3 & 3 & 0.0 & 6.0 & 0\\\\\n",
       "\t 67 & 1 & 4 & 160 & 286 & 0 & 2 & 108 & 1 & 1.5 & 2 & 3.0 & 3.0 & 2\\\\\n",
       "\t 67 & 1 & 4 & 120 & 229 & 0 & 2 & 129 & 1 & 2.6 & 2 & 2.0 & 7.0 & 1\\\\\n",
       "\t ⋮ & ⋮ & ⋮ & ⋮ & ⋮ & ⋮ & ⋮ & ⋮ & ⋮ & ⋮ & ⋮ & ⋮ & ⋮ & ⋮\\\\\n",
       "\t 57 & 1 & 4 & 130 & 131 & 0 & 0 & 115 & 1 & 1.2 & 2 & 1.0 & 7.0 & 3\\\\\n",
       "\t 57 & 0 & 2 & 130 & 236 & 0 & 2 & 174 & 0 & 0.0 & 2 & 1.0 & 3.0 & 1\\\\\n",
       "\t 38 & 1 & 3 & 138 & 175 & 0 & 0 & 173 & 0 & 0.0 & 1 & ?   & 3.0 & 0\\\\\n",
       "\\end{tabular}\n"
      ],
      "text/markdown": [
       "\n",
       "A spec_tbl_df: 303 × 14\n",
       "\n",
       "| age &lt;dbl&gt; | sex &lt;dbl&gt; | chest_pain &lt;dbl&gt; | trestbps &lt;dbl&gt; | chol &lt;dbl&gt; | fasting_bld_sgar &lt;dbl&gt; | restecg &lt;dbl&gt; | max_heart_rate &lt;dbl&gt; | exerc_angina &lt;dbl&gt; | oldpeak &lt;dbl&gt; | slope &lt;dbl&gt; | ca &lt;chr&gt; | thal &lt;chr&gt; | diagnosis &lt;dbl&gt; |\n",
       "|---|---|---|---|---|---|---|---|---|---|---|---|---|---|\n",
       "| 63 | 1 | 1 | 145 | 233 | 1 | 2 | 150 | 0 | 2.3 | 3 | 0.0 | 6.0 | 0 |\n",
       "| 67 | 1 | 4 | 160 | 286 | 0 | 2 | 108 | 1 | 1.5 | 2 | 3.0 | 3.0 | 2 |\n",
       "| 67 | 1 | 4 | 120 | 229 | 0 | 2 | 129 | 1 | 2.6 | 2 | 2.0 | 7.0 | 1 |\n",
       "| ⋮ | ⋮ | ⋮ | ⋮ | ⋮ | ⋮ | ⋮ | ⋮ | ⋮ | ⋮ | ⋮ | ⋮ | ⋮ | ⋮ |\n",
       "| 57 | 1 | 4 | 130 | 131 | 0 | 0 | 115 | 1 | 1.2 | 2 | 1.0 | 7.0 | 3 |\n",
       "| 57 | 0 | 2 | 130 | 236 | 0 | 2 | 174 | 0 | 0.0 | 2 | 1.0 | 3.0 | 1 |\n",
       "| 38 | 1 | 3 | 138 | 175 | 0 | 0 | 173 | 0 | 0.0 | 1 | ?   | 3.0 | 0 |\n",
       "\n"
      ],
      "text/plain": [
       "    age sex chest_pain trestbps chol fasting_bld_sgar restecg max_heart_rate\n",
       "1   63  1   1          145      233  1                2       150           \n",
       "2   67  1   4          160      286  0                2       108           \n",
       "3   67  1   4          120      229  0                2       129           \n",
       "⋮   ⋮   ⋮   ⋮          ⋮        ⋮    ⋮                ⋮       ⋮             \n",
       "301 57  1   4          130      131  0                0       115           \n",
       "302 57  0   2          130      236  0                2       174           \n",
       "303 38  1   3          138      175  0                0       173           \n",
       "    exerc_angina oldpeak slope ca  thal diagnosis\n",
       "1   0            2.3     3     0.0 6.0  0        \n",
       "2   1            1.5     2     3.0 3.0  2        \n",
       "3   1            2.6     2     2.0 7.0  1        \n",
       "⋮   ⋮            ⋮       ⋮     ⋮   ⋮    ⋮        \n",
       "301 1            1.2     2     1.0 7.0  3        \n",
       "302 0            0.0     2     1.0 3.0  1        \n",
       "303 0            0.0     1     ?   3.0  0        "
      ]
     },
     "metadata": {},
     "output_type": "display_data"
    }
   ],
   "source": [
    "# downloading and reading data, naming columns\n",
    "url <- \"https://raw.githubusercontent.com/ssun05/dsci_100_002_group5_project/main/processed.cleveland.data\"\n",
    "#download.file(url, \"heart_data.csv\")\n",
    "heart_data <- read_csv(\"heart_data.csv\", col_names = c(\"age\", \"sex\", \"chest_pain\", \"trestbps\", \"chol\", \"fasting_bld_sgar\",\n",
    "                                                      \"restecg\", \"max_heart_rate\", \"exerc_angina\", \"oldpeak\", \"slope\", \"ca\", \"thal\", \"diagnosis\"))\n",
    "\n",
    "heart_data"
   ]
  },
  {
   "cell_type": "code",
   "execution_count": 3,
   "id": "223dd970-0c52-4a11-8b4e-7026d2bd6d44",
   "metadata": {},
   "outputs": [
    {
     "data": {
      "text/html": [
       "<table class=\"dataframe\">\n",
       "<caption>A tibble: 303 × 14</caption>\n",
       "<thead>\n",
       "\t<tr><th scope=col>age</th><th scope=col>sex</th><th scope=col>chest_pain</th><th scope=col>trestbps</th><th scope=col>chol</th><th scope=col>fasting_bld_sgar</th><th scope=col>restecg</th><th scope=col>max_heart_rate</th><th scope=col>exerc_angina</th><th scope=col>oldpeak</th><th scope=col>slope</th><th scope=col>ca</th><th scope=col>thal</th><th scope=col>diagnosis</th></tr>\n",
       "\t<tr><th scope=col>&lt;dbl&gt;</th><th scope=col>&lt;dbl&gt;</th><th scope=col>&lt;dbl&gt;</th><th scope=col>&lt;dbl&gt;</th><th scope=col>&lt;dbl&gt;</th><th scope=col>&lt;dbl&gt;</th><th scope=col>&lt;dbl&gt;</th><th scope=col>&lt;dbl&gt;</th><th scope=col>&lt;dbl&gt;</th><th scope=col>&lt;dbl&gt;</th><th scope=col>&lt;dbl&gt;</th><th scope=col>&lt;chr&gt;</th><th scope=col>&lt;chr&gt;</th><th scope=col>&lt;fct&gt;</th></tr>\n",
       "</thead>\n",
       "<tbody>\n",
       "\t<tr><td>63</td><td>1</td><td>1</td><td>145</td><td>233</td><td>1</td><td>2</td><td>150</td><td>0</td><td>2.3</td><td>3</td><td>0.0</td><td>6.0</td><td>none</td></tr>\n",
       "\t<tr><td>67</td><td>1</td><td>4</td><td>160</td><td>286</td><td>0</td><td>2</td><td>108</td><td>1</td><td>1.5</td><td>2</td><td>3.0</td><td>3.0</td><td>yes </td></tr>\n",
       "\t<tr><td>67</td><td>1</td><td>4</td><td>120</td><td>229</td><td>0</td><td>2</td><td>129</td><td>1</td><td>2.6</td><td>2</td><td>2.0</td><td>7.0</td><td>yes </td></tr>\n",
       "\t<tr><td>⋮</td><td>⋮</td><td>⋮</td><td>⋮</td><td>⋮</td><td>⋮</td><td>⋮</td><td>⋮</td><td>⋮</td><td>⋮</td><td>⋮</td><td>⋮</td><td>⋮</td><td>⋮</td></tr>\n",
       "\t<tr><td>57</td><td>1</td><td>4</td><td>130</td><td>131</td><td>0</td><td>0</td><td>115</td><td>1</td><td>1.2</td><td>2</td><td>1.0</td><td>7.0</td><td>yes </td></tr>\n",
       "\t<tr><td>57</td><td>0</td><td>2</td><td>130</td><td>236</td><td>0</td><td>2</td><td>174</td><td>0</td><td>0.0</td><td>2</td><td>1.0</td><td>3.0</td><td>yes </td></tr>\n",
       "\t<tr><td>38</td><td>1</td><td>3</td><td>138</td><td>175</td><td>0</td><td>0</td><td>173</td><td>0</td><td>0.0</td><td>1</td><td>?  </td><td>3.0</td><td>none</td></tr>\n",
       "</tbody>\n",
       "</table>\n"
      ],
      "text/latex": [
       "A tibble: 303 × 14\n",
       "\\begin{tabular}{llllllllllllll}\n",
       " age & sex & chest\\_pain & trestbps & chol & fasting\\_bld\\_sgar & restecg & max\\_heart\\_rate & exerc\\_angina & oldpeak & slope & ca & thal & diagnosis\\\\\n",
       " <dbl> & <dbl> & <dbl> & <dbl> & <dbl> & <dbl> & <dbl> & <dbl> & <dbl> & <dbl> & <dbl> & <chr> & <chr> & <fct>\\\\\n",
       "\\hline\n",
       "\t 63 & 1 & 1 & 145 & 233 & 1 & 2 & 150 & 0 & 2.3 & 3 & 0.0 & 6.0 & none\\\\\n",
       "\t 67 & 1 & 4 & 160 & 286 & 0 & 2 & 108 & 1 & 1.5 & 2 & 3.0 & 3.0 & yes \\\\\n",
       "\t 67 & 1 & 4 & 120 & 229 & 0 & 2 & 129 & 1 & 2.6 & 2 & 2.0 & 7.0 & yes \\\\\n",
       "\t ⋮ & ⋮ & ⋮ & ⋮ & ⋮ & ⋮ & ⋮ & ⋮ & ⋮ & ⋮ & ⋮ & ⋮ & ⋮ & ⋮\\\\\n",
       "\t 57 & 1 & 4 & 130 & 131 & 0 & 0 & 115 & 1 & 1.2 & 2 & 1.0 & 7.0 & yes \\\\\n",
       "\t 57 & 0 & 2 & 130 & 236 & 0 & 2 & 174 & 0 & 0.0 & 2 & 1.0 & 3.0 & yes \\\\\n",
       "\t 38 & 1 & 3 & 138 & 175 & 0 & 0 & 173 & 0 & 0.0 & 1 & ?   & 3.0 & none\\\\\n",
       "\\end{tabular}\n"
      ],
      "text/markdown": [
       "\n",
       "A tibble: 303 × 14\n",
       "\n",
       "| age &lt;dbl&gt; | sex &lt;dbl&gt; | chest_pain &lt;dbl&gt; | trestbps &lt;dbl&gt; | chol &lt;dbl&gt; | fasting_bld_sgar &lt;dbl&gt; | restecg &lt;dbl&gt; | max_heart_rate &lt;dbl&gt; | exerc_angina &lt;dbl&gt; | oldpeak &lt;dbl&gt; | slope &lt;dbl&gt; | ca &lt;chr&gt; | thal &lt;chr&gt; | diagnosis &lt;fct&gt; |\n",
       "|---|---|---|---|---|---|---|---|---|---|---|---|---|---|\n",
       "| 63 | 1 | 1 | 145 | 233 | 1 | 2 | 150 | 0 | 2.3 | 3 | 0.0 | 6.0 | none |\n",
       "| 67 | 1 | 4 | 160 | 286 | 0 | 2 | 108 | 1 | 1.5 | 2 | 3.0 | 3.0 | yes  |\n",
       "| 67 | 1 | 4 | 120 | 229 | 0 | 2 | 129 | 1 | 2.6 | 2 | 2.0 | 7.0 | yes  |\n",
       "| ⋮ | ⋮ | ⋮ | ⋮ | ⋮ | ⋮ | ⋮ | ⋮ | ⋮ | ⋮ | ⋮ | ⋮ | ⋮ | ⋮ |\n",
       "| 57 | 1 | 4 | 130 | 131 | 0 | 0 | 115 | 1 | 1.2 | 2 | 1.0 | 7.0 | yes  |\n",
       "| 57 | 0 | 2 | 130 | 236 | 0 | 2 | 174 | 0 | 0.0 | 2 | 1.0 | 3.0 | yes  |\n",
       "| 38 | 1 | 3 | 138 | 175 | 0 | 0 | 173 | 0 | 0.0 | 1 | ?   | 3.0 | none |\n",
       "\n"
      ],
      "text/plain": [
       "    age sex chest_pain trestbps chol fasting_bld_sgar restecg max_heart_rate\n",
       "1   63  1   1          145      233  1                2       150           \n",
       "2   67  1   4          160      286  0                2       108           \n",
       "3   67  1   4          120      229  0                2       129           \n",
       "⋮   ⋮   ⋮   ⋮          ⋮        ⋮    ⋮                ⋮       ⋮             \n",
       "301 57  1   4          130      131  0                0       115           \n",
       "302 57  0   2          130      236  0                2       174           \n",
       "303 38  1   3          138      175  0                0       173           \n",
       "    exerc_angina oldpeak slope ca  thal diagnosis\n",
       "1   0            2.3     3     0.0 6.0  none     \n",
       "2   1            1.5     2     3.0 3.0  yes      \n",
       "3   1            2.6     2     2.0 7.0  yes      \n",
       "⋮   ⋮            ⋮       ⋮     ⋮   ⋮    ⋮        \n",
       "301 1            1.2     2     1.0 7.0  yes      \n",
       "302 0            0.0     2     1.0 3.0  yes      \n",
       "303 0            0.0     1     ?   3.0  none     "
      ]
     },
     "metadata": {},
     "output_type": "display_data"
    }
   ],
   "source": [
    "# filter for males and reclass diagnosis as factor, make labels understandable\n",
    "heart_data_renamed <- heart_data |> \n",
    "                    mutate(diagnosis = as_factor(diagnosis)) |>\n",
    "                    mutate(diagnosis = fct_recode(diagnosis, \"none\" = \"0\", \"yes\" = \"1\", \"yes\" = \"2\", \"yes\" = \"3\", \"yes\" = \"4\"))\n",
    "\n",
    "heart_data_renamed"
   ]
  },
  {
   "cell_type": "code",
   "execution_count": 4,
   "id": "56964c39",
   "metadata": {},
   "outputs": [],
   "source": [
    "heart_split <- initial_split(heart_data_renamed, prop = 0.75, strata = diagnosis)\n",
    "\n",
    "heart_train <- training(heart_split)\n",
    "heart_test <- testing(heart_split)"
   ]
  },
  {
   "cell_type": "code",
   "execution_count": 5,
   "id": "4704bc81-9cc1-4b57-9a05-1311089db569",
   "metadata": {},
   "outputs": [
    {
     "data": {
      "text/html": [
       "<table class=\"dataframe\">\n",
       "<caption>A tibble: 2 × 2</caption>\n",
       "<thead>\n",
       "\t<tr><th scope=col>diagnosis</th><th scope=col>count</th></tr>\n",
       "\t<tr><th scope=col>&lt;fct&gt;</th><th scope=col>&lt;int&gt;</th></tr>\n",
       "</thead>\n",
       "<tbody>\n",
       "\t<tr><td>none</td><td>123</td></tr>\n",
       "\t<tr><td>yes </td><td>104</td></tr>\n",
       "</tbody>\n",
       "</table>\n"
      ],
      "text/latex": [
       "A tibble: 2 × 2\n",
       "\\begin{tabular}{ll}\n",
       " diagnosis & count\\\\\n",
       " <fct> & <int>\\\\\n",
       "\\hline\n",
       "\t none & 123\\\\\n",
       "\t yes  & 104\\\\\n",
       "\\end{tabular}\n"
      ],
      "text/markdown": [
       "\n",
       "A tibble: 2 × 2\n",
       "\n",
       "| diagnosis &lt;fct&gt; | count &lt;int&gt; |\n",
       "|---|---|\n",
       "| none | 123 |\n",
       "| yes  | 104 |\n",
       "\n"
      ],
      "text/plain": [
       "  diagnosis count\n",
       "1 none      123  \n",
       "2 yes       104  "
      ]
     },
     "metadata": {},
     "output_type": "display_data"
    },
    {
     "data": {
      "text/html": [
       "<table class=\"dataframe\">\n",
       "<caption>A tibble: 1 × 1</caption>\n",
       "<thead>\n",
       "\t<tr><th scope=col>missing_data</th></tr>\n",
       "\t<tr><th scope=col>&lt;int&gt;</th></tr>\n",
       "</thead>\n",
       "<tbody>\n",
       "\t<tr><td>0</td></tr>\n",
       "</tbody>\n",
       "</table>\n"
      ],
      "text/latex": [
       "A tibble: 1 × 1\n",
       "\\begin{tabular}{l}\n",
       " missing\\_data\\\\\n",
       " <int>\\\\\n",
       "\\hline\n",
       "\t 0\\\\\n",
       "\\end{tabular}\n"
      ],
      "text/markdown": [
       "\n",
       "A tibble: 1 × 1\n",
       "\n",
       "| missing_data &lt;int&gt; |\n",
       "|---|\n",
       "| 0 |\n",
       "\n"
      ],
      "text/plain": [
       "  missing_data\n",
       "1 0           "
      ]
     },
     "metadata": {},
     "output_type": "display_data"
    }
   ],
   "source": [
    "# table of diagnosis counts\n",
    "label_counts <- heart_train |>\n",
    "                group_by(diagnosis) |>\n",
    "                summarize(count = n())\n",
    "label_counts\n",
    "\n",
    "missing_data <- heart_train |> \n",
    "                filter(age == NA | max_heart_rate == NA | diagnosis == NA |\n",
    "                       age == \"?\" | max_heart_rate == \"?\" | diagnosis == \"?\") |>\n",
    "                    summarize(missing_data = n())\n",
    "\n",
    "missing_data"
   ]
  },
  {
   "cell_type": "code",
   "execution_count": null,
   "id": "96c08f14-a585-4cfb-a4cf-bd6e340b3bef",
   "metadata": {},
   "outputs": [
    {
     "data": {
      "text/html": [
       "<table class=\"dataframe\">\n",
       "<caption>A tibble: 2 × 2</caption>\n",
       "<thead>\n",
       "\t<tr><th scope=col>diagnosis</th><th scope=col>mean_heart</th></tr>\n",
       "\t<tr><th scope=col>&lt;fct&gt;</th><th scope=col>&lt;dbl&gt;</th></tr>\n",
       "</thead>\n",
       "<tbody>\n",
       "\t<tr><td>none</td><td>158.8049</td></tr>\n",
       "\t<tr><td>yes </td><td>139.1538</td></tr>\n",
       "</tbody>\n",
       "</table>\n"
      ],
      "text/latex": [
       "A tibble: 2 × 2\n",
       "\\begin{tabular}{ll}\n",
       " diagnosis & mean\\_heart\\\\\n",
       " <fct> & <dbl>\\\\\n",
       "\\hline\n",
       "\t none & 158.8049\\\\\n",
       "\t yes  & 139.1538\\\\\n",
       "\\end{tabular}\n"
      ],
      "text/markdown": [
       "\n",
       "A tibble: 2 × 2\n",
       "\n",
       "| diagnosis &lt;fct&gt; | mean_heart &lt;dbl&gt; |\n",
       "|---|---|\n",
       "| none | 158.8049 |\n",
       "| yes  | 139.1538 |\n",
       "\n"
      ],
      "text/plain": [
       "  diagnosis mean_heart\n",
       "1 none      158.8049  \n",
       "2 yes       139.1538  "
      ]
     },
     "metadata": {},
     "output_type": "display_data"
    }
   ],
   "source": [
    "# predictor mean: heart rate\n",
    "mean_max_hrt_rate <- heart_train |>\n",
    "                        group_by(diagnosis) |>\n",
    "                        summarize(mean_heart = mean(max_heart_rate))\n",
    "\n",
    "mean_max_hrt_rate\n",
    "\n",
    "options(repr.plot.width = 4, repr.plot.height = 5)\n",
    "avg_hrt_plot <- mean_max_hrt_rate |> \n",
    "                ggplot(aes(x = diagnosis, y = mean_heart)) +\n",
    "                geom_bar(stat = \"identity\", fill = \"steelblue\") +\n",
    "                labs(x = \"Diagnosis\", y = \"Average Maximum Heart Rate\") +\n",
    "                ggtitle(\"Average Max Heart Rate of People With \\n and Without Heart Disease\")\n",
    "\n",
    "avg_hrt_plot"
   ]
  },
  {
   "cell_type": "code",
   "execution_count": null,
   "id": "bccc93e4-fa06-4777-8090-984e5e731231",
   "metadata": {},
   "outputs": [],
   "source": [
    "# predictor mean: age\n",
    "mean_age <- heart_train |>\n",
    "                group_by(diagnosis) |>\n",
    "                summarize(mean_age = mean(age))\n",
    "\n",
    "mean_age\n",
    "\n",
    "options(repr.plot.width = 4, repr.plot.height = 5)\n",
    "avg_hrt_plot <- mean_age |> \n",
    "                ggplot(aes(x = diagnosis, y = mean_age)) +\n",
    "                geom_bar(stat = \"identity\", fill = \"steelblue\") +\n",
    "                labs(x = \"Diagnosis\", y = \"Average Age\") +\n",
    "                ggtitle(\"Average Age of People With \\n and Without Heart Disease\")\n",
    "\n",
    "avg_hrt_plot"
   ]
  },
  {
   "cell_type": "code",
   "execution_count": null,
   "id": "1f9da07e-8b5e-43ab-a577-005db5d1ab77",
   "metadata": {},
   "outputs": [],
   "source": [
    "options(repr.plot.width = 6, repr.plot.height = 6)\n",
    "\n",
    "heart_plot <- heart_train|> \n",
    "                ggplot(aes(x = age, y = max_heart_rate, color = diagnosis)) +\n",
    "                geom_point() +\n",
    "                labs(x = \"Age (Years)\",\n",
    "                     y = \"Max Heart Rate (BPM)\",\n",
    "                     color = \"Has Heart Diagnosis?\",\n",
    "                     title = \"Max Heart Rate vs. Age vs. Heart Diagnosis?\")\n",
    "\n",
    "heart_plot\n",
    "\n",
    "options(repr.plot.width = 8, repr.plot.height = 4)\n",
    "\n",
    "age_distribution <- heart_train|> \n",
    "                ggplot(aes(x = age)) +\n",
    "                geom_histogram() +\n",
    "                labs(x = \"Age (Years)\",\n",
    "                     y = \"Count\",\n",
    "                     title = \"Age Distribution vs. Heart Diagnosis?\") +\n",
    "                facet_grid(cols = vars(diagnosis))\n",
    "\n",
    "age_distribution\n",
    "\n",
    "max_distribution <- heart_train|> \n",
    "                ggplot(aes(x = max_heart_rate)) +\n",
    "                geom_histogram(binwidth = 3) +\n",
    "                labs(x = \"Max Heart Rate (BPM)\",\n",
    "                     y = \"Count\",\n",
    "                     title = \"Max Heart Rate Distribution vs. Heart Diagnosis?\") +\n",
    "                facet_grid(cols = vars(diagnosis))\n",
    "\n",
    "max_distribution"
   ]
  },
  {
   "cell_type": "markdown",
   "id": "4dd16413",
   "metadata": {},
   "source": [
    "## Methods\n",
    "\n",
    "This analysis will use an knn classification method in order to answer the research question. With this method we will use the variables of age and max_heart_rate as predictor variables and use diagnosis as the classifier variable. After repeated testing we have found that age and max heart rate allows for the most predictive power in this application. \n",
    "\n",
    "We decided to use knn classification as opposed to knn regression due to the nature of the question that we are trying to answer. Diagnosis takes on values from 0 - 4 which at first looks quantitative but it is more categorical in nature because each value represents a distinct category in which heart disease can be grouped in. In order to make this distinction more clear we decided to categorize these values into two: \"no\" (0) and \"yes\" (1 - 4) which simply indicates the presence of heart disease or not.\n",
    "\n",
    "We will perform an analysis in order to determine the best K value that maximizes our recall. If there is a person with heart disease out there we want to be sure that they get identified. We want to minimize the amount of false negatives.\n",
    "\n",
    "Finally to build our classifier we will create an workflow that contains an recipe, that scales and centers all predictors, and a model.\n",
    "\n",
    "To visualize our results we will use a confusion matrix that summarizes the predictions that our classifier has made."
   ]
  },
  {
   "cell_type": "markdown",
   "id": "3669dd1a",
   "metadata": {},
   "source": [
    "## Expected Outcomes and Significance"
   ]
  },
  {
   "cell_type": "code",
   "execution_count": null,
   "id": "35845258",
   "metadata": {},
   "outputs": [],
   "source": []
  }
 ],
 "metadata": {
  "kernelspec": {
   "display_name": "R",
   "language": "R",
   "name": "ir"
  },
  "language_info": {
   "codemirror_mode": "r",
   "file_extension": ".r",
   "mimetype": "text/x-r-source",
   "name": "R",
   "pygments_lexer": "r",
   "version": "4.3.1"
  }
 },
 "nbformat": 4,
 "nbformat_minor": 5
}
