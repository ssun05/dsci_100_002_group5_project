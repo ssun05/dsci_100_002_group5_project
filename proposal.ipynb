{
 "cells": [
  {
   "cell_type": "markdown",
   "id": "4d3a0e86",
   "metadata": {},
   "source": [
    "## Cardiovascular Risk Prediction in the Male Swiss Population: A Predictive Analysis of Diagnosis Levels"
   ]
  },
  {
   "cell_type": "markdown",
   "id": "17a1c23f",
   "metadata": {},
   "source": [
    "## Introduction"
   ]
  },
  {
   "cell_type": "markdown",
   "id": "90251db7",
   "metadata": {},
   "source": [
    "Bckground: Coronary diseases pose significant health challenges, requiring precise predictive models. In Switzerland, understanding diagnostic factors, particularly among males, is crucial. Utilizing a discriminant function model dataset, this study focuses on the relationship between age, maximum heart rate, and male diagnosis levels in Switzerland. The unique healthcare landscape and lifestyle factors make this exploration essential for tailored interventions and improved cardiovascular risk assessment in the Swiss male population.\n",
    "Predictive question: How do age and maximum heart rate as predictor variables influence the likelihood of heart disease diagnosis in males within the Swiss population?\n",
    "Dataset: The dataset for this analysis is derived from a discriminant function model, initially developed using clinical and noninvasive test results from 303 patients undergoing angiography at the Cleveland Clinic. Subsequently applied to diverse patient groups, including 143 patients from University Hospitals in Zurich and Basel, Switzerland, the dataset encompasses variables such as age, sex, chest pain, resting blood pressure, cholesterol levels,  maximum heart rate and other relevant features for predicting male diagnosis levels in the Swiss context."
   ]
  },
  {
   "cell_type": "markdown",
   "id": "3b7348e8",
   "metadata": {},
   "source": [
    "## Prelim Analysis"
   ]
  },
  {
   "cell_type": "code",
   "execution_count": 1,
   "id": "f2013dae",
   "metadata": {},
   "outputs": [],
   "source": [
    "# reading and wrangling"
   ]
  },
  {
   "cell_type": "code",
   "execution_count": 2,
   "id": "56964c39",
   "metadata": {},
   "outputs": [],
   "source": [
    "# summary - table "
   ]
  },
  {
   "cell_type": "code",
   "execution_count": 3,
   "id": "4cd8cea4",
   "metadata": {},
   "outputs": [],
   "source": [
    "# summary - eg. predictor distributions"
   ]
  },
  {
   "cell_type": "markdown",
   "id": "adfe4984",
   "metadata": {},
   "source": [
    "## Methods"
   ]
  },
  {
   "cell_type": "markdown",
   "id": "4dd16413",
   "metadata": {},
   "source": [
    "<<<<<<< LOCAL CELL DELETED >>>>>>>\n",
    "## Methods\n",
    "\n",
    "We will use an knn classification method in order to answer our research question. With this method we will use the variables of age and max_heart_rate as predictor variables and use diagnosis as the classifier variable. After repeated testing we have found that age and max heart rate allows for the most predictive power in this application. \n",
    "\n",
    "We decided to use knn classification as opposed to knn regression due to the nature of the question that we are trying to answer. Diagnosis takes on values from 0 - 4 which at first looks quantitative but it is more categorical in nature because each value represents a distinct category in which heart disease can be grouped in. Thus it is more intuitive to use classification for our prediction question.\n",
    "\n",
    "We will perform an analysis in order to determine the best K value that maximizes our recall. If there is a person with heart disease out there want to be sure that they get identified. We want to minimize the amount of false negatives and are fine with false positives.\n",
    "\n",
    "In order to visualize our results we will use a confusion matrix that summarizes the predictions that our classifier has made."
   ]
  },
  {
   "cell_type": "markdown",
   "id": "3669dd1a",
   "metadata": {},
   "source": [
    "## Expected Outcomes and Significance"
   ]
  },
  {
   "cell_type": "code",
   "execution_count": null,
   "id": "35845258",
   "metadata": {},
   "outputs": [],
   "source": []
  }
 ],
 "metadata": {
  "kernelspec": {
   "display_name": "R",
   "language": "R",
   "name": "ir"
  },
  "language_info": {
   "codemirror_mode": "r",
   "file_extension": ".r",
   "mimetype": "text/x-r-source",
   "name": "R",
   "pygments_lexer": "r",
   "version": "4.3.1"
  }
 },
 "nbformat": 4,
 "nbformat_minor": 5
}
