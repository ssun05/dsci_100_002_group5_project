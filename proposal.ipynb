{
 "cells": [
  {
   "cell_type": "markdown",
   "id": "b40126f5-0a6e-49dd-89bc-15491d4dbf85",
   "metadata": {},
   "source": [
    "## Title"
   ]
  },
  {
   "cell_type": "markdown",
   "id": "3df2cc4f-56ff-48e9-b34e-546997298595",
   "metadata": {},
   "source": [
    "## Introduction"
   ]
  },
  {
   "cell_type": "markdown",
   "id": "2f050871-cdd9-4544-9d2d-14fe3b445c35",
   "metadata": {},
   "source": [
    "## Prelim Analysis"
   ]
  },
  {
   "cell_type": "markdown",
   "id": "3fcabf08-ab8f-4ccf-ba96-0d5073150912",
   "metadata": {},
   "source": [
    "### Libraries to load"
   ]
  },
  {
   "cell_type": "code",
   "execution_count": 11,
   "id": "df894e8d-310b-4a4e-883a-cf845b60f3ad",
   "metadata": {},
   "outputs": [
    {
     "name": "stderr",
     "output_type": "stream",
     "text": [
      "── \u001b[1mAttaching packages\u001b[22m ────────────────────────────────────── tidymodels 1.1.1 ──\n",
      "\n",
      "\u001b[32m✔\u001b[39m \u001b[34mbroom       \u001b[39m 1.0.5     \u001b[32m✔\u001b[39m \u001b[34mrsample     \u001b[39m 1.2.0\n",
      "\u001b[32m✔\u001b[39m \u001b[34mdials       \u001b[39m 1.2.0     \u001b[32m✔\u001b[39m \u001b[34mtune        \u001b[39m 1.1.2\n",
      "\u001b[32m✔\u001b[39m \u001b[34minfer       \u001b[39m 1.0.5     \u001b[32m✔\u001b[39m \u001b[34mworkflows   \u001b[39m 1.1.3\n",
      "\u001b[32m✔\u001b[39m \u001b[34mmodeldata   \u001b[39m 1.2.0     \u001b[32m✔\u001b[39m \u001b[34mworkflowsets\u001b[39m 1.0.1\n",
      "\u001b[32m✔\u001b[39m \u001b[34mparsnip     \u001b[39m 1.1.1     \u001b[32m✔\u001b[39m \u001b[34myardstick   \u001b[39m 1.2.0\n",
      "\u001b[32m✔\u001b[39m \u001b[34mrecipes     \u001b[39m 1.0.8     \n",
      "\n",
      "── \u001b[1mConflicts\u001b[22m ───────────────────────────────────────── tidymodels_conflicts() ──\n",
      "\u001b[31m✖\u001b[39m \u001b[34mscales\u001b[39m::\u001b[32mdiscard()\u001b[39m masks \u001b[34mpurrr\u001b[39m::discard()\n",
      "\u001b[31m✖\u001b[39m \u001b[34mdplyr\u001b[39m::\u001b[32mfilter()\u001b[39m   masks \u001b[34mstats\u001b[39m::filter()\n",
      "\u001b[31m✖\u001b[39m \u001b[34mrecipes\u001b[39m::\u001b[32mfixed()\u001b[39m  masks \u001b[34mstringr\u001b[39m::fixed()\n",
      "\u001b[31m✖\u001b[39m \u001b[34mdplyr\u001b[39m::\u001b[32mlag()\u001b[39m      masks \u001b[34mstats\u001b[39m::lag()\n",
      "\u001b[31m✖\u001b[39m \u001b[34myardstick\u001b[39m::\u001b[32mspec()\u001b[39m masks \u001b[34mreadr\u001b[39m::spec()\n",
      "\u001b[31m✖\u001b[39m \u001b[34mrecipes\u001b[39m::\u001b[32mstep()\u001b[39m   masks \u001b[34mstats\u001b[39m::step()\n",
      "\u001b[34m•\u001b[39m Learn how to get started at \u001b[32mhttps://www.tidymodels.org/start/\u001b[39m\n",
      "\n"
     ]
    }
   ],
   "source": [
    "library(tidyverse)\n",
    "library(repr)\n",
    "library(tidymodels)\n",
    "options(repr.matrix.max.rows = 6)"
   ]
  },
  {
   "cell_type": "code",
   "execution_count": 14,
   "id": "f08fdb83-3d8f-4abd-8a51-e0ccf9787a45",
   "metadata": {},
   "outputs": [
    {
     "name": "stderr",
     "output_type": "stream",
     "text": [
      "\u001b[1mRows: \u001b[22m\u001b[34m123\u001b[39m \u001b[1mColumns: \u001b[22m\u001b[34m14\u001b[39m\n",
      "\u001b[36m──\u001b[39m \u001b[1mColumn specification\u001b[22m \u001b[36m────────────────────────────────────────────────────────\u001b[39m\n",
      "\u001b[1mDelimiter:\u001b[22m \",\"\n",
      "\u001b[31mchr\u001b[39m (9): trestbps, fasting_bld_sgar, restecg, max_heart_rate, exerc_angina, ...\n",
      "\u001b[32mdbl\u001b[39m (5): age, sex, chest_pain, chol, diagnosis\n",
      "\n",
      "\u001b[36mℹ\u001b[39m Use `spec()` to retrieve the full column specification for this data.\n",
      "\u001b[36mℹ\u001b[39m Specify the column types or set `show_col_types = FALSE` to quiet this message.\n"
     ]
    },
    {
     "data": {
      "text/html": [
       "<table class=\"dataframe\">\n",
       "<caption>A spec_tbl_df: 123 × 14</caption>\n",
       "<thead>\n",
       "\t<tr><th scope=col>age</th><th scope=col>sex</th><th scope=col>chest_pain</th><th scope=col>trestbps</th><th scope=col>chol</th><th scope=col>fasting_bld_sgar</th><th scope=col>restecg</th><th scope=col>max_heart_rate</th><th scope=col>exerc_angina</th><th scope=col>oldpeak</th><th scope=col>slope</th><th scope=col>ca</th><th scope=col>thal</th><th scope=col>diagnosis</th></tr>\n",
       "\t<tr><th scope=col>&lt;dbl&gt;</th><th scope=col>&lt;dbl&gt;</th><th scope=col>&lt;dbl&gt;</th><th scope=col>&lt;chr&gt;</th><th scope=col>&lt;dbl&gt;</th><th scope=col>&lt;chr&gt;</th><th scope=col>&lt;chr&gt;</th><th scope=col>&lt;chr&gt;</th><th scope=col>&lt;chr&gt;</th><th scope=col>&lt;chr&gt;</th><th scope=col>&lt;chr&gt;</th><th scope=col>&lt;chr&gt;</th><th scope=col>&lt;chr&gt;</th><th scope=col>&lt;dbl&gt;</th></tr>\n",
       "</thead>\n",
       "<tbody>\n",
       "\t<tr><td>32</td><td>1</td><td>1</td><td>95 </td><td>0</td><td>?</td><td>0</td><td>127</td><td>0</td><td>.7</td><td>1</td><td>?</td><td>?</td><td>1</td></tr>\n",
       "\t<tr><td>34</td><td>1</td><td>4</td><td>115</td><td>0</td><td>?</td><td>?</td><td>154</td><td>0</td><td>.2</td><td>1</td><td>?</td><td>?</td><td>1</td></tr>\n",
       "\t<tr><td>35</td><td>1</td><td>4</td><td>?  </td><td>0</td><td>?</td><td>0</td><td>130</td><td>1</td><td>? </td><td>?</td><td>?</td><td>7</td><td>3</td></tr>\n",
       "\t<tr><td>⋮</td><td>⋮</td><td>⋮</td><td>⋮</td><td>⋮</td><td>⋮</td><td>⋮</td><td>⋮</td><td>⋮</td><td>⋮</td><td>⋮</td><td>⋮</td><td>⋮</td><td>⋮</td></tr>\n",
       "\t<tr><td>72</td><td>1</td><td>3</td><td>160</td><td>0</td><td>?</td><td>2</td><td>114</td><td>0</td><td>1.6</td><td>2</td><td>2</td><td>?</td><td>0</td></tr>\n",
       "\t<tr><td>73</td><td>0</td><td>3</td><td>160</td><td>0</td><td>0</td><td>1</td><td>121</td><td>0</td><td>0  </td><td>1</td><td>?</td><td>3</td><td>1</td></tr>\n",
       "\t<tr><td>74</td><td>1</td><td>2</td><td>145</td><td>0</td><td>?</td><td>1</td><td>123</td><td>0</td><td>1.3</td><td>1</td><td>?</td><td>?</td><td>1</td></tr>\n",
       "</tbody>\n",
       "</table>\n"
      ],
      "text/latex": [
       "A spec\\_tbl\\_df: 123 × 14\n",
       "\\begin{tabular}{llllllllllllll}\n",
       " age & sex & chest\\_pain & trestbps & chol & fasting\\_bld\\_sgar & restecg & max\\_heart\\_rate & exerc\\_angina & oldpeak & slope & ca & thal & diagnosis\\\\\n",
       " <dbl> & <dbl> & <dbl> & <chr> & <dbl> & <chr> & <chr> & <chr> & <chr> & <chr> & <chr> & <chr> & <chr> & <dbl>\\\\\n",
       "\\hline\n",
       "\t 32 & 1 & 1 & 95  & 0 & ? & 0 & 127 & 0 & .7 & 1 & ? & ? & 1\\\\\n",
       "\t 34 & 1 & 4 & 115 & 0 & ? & ? & 154 & 0 & .2 & 1 & ? & ? & 1\\\\\n",
       "\t 35 & 1 & 4 & ?   & 0 & ? & 0 & 130 & 1 & ?  & ? & ? & 7 & 3\\\\\n",
       "\t ⋮ & ⋮ & ⋮ & ⋮ & ⋮ & ⋮ & ⋮ & ⋮ & ⋮ & ⋮ & ⋮ & ⋮ & ⋮ & ⋮\\\\\n",
       "\t 72 & 1 & 3 & 160 & 0 & ? & 2 & 114 & 0 & 1.6 & 2 & 2 & ? & 0\\\\\n",
       "\t 73 & 0 & 3 & 160 & 0 & 0 & 1 & 121 & 0 & 0   & 1 & ? & 3 & 1\\\\\n",
       "\t 74 & 1 & 2 & 145 & 0 & ? & 1 & 123 & 0 & 1.3 & 1 & ? & ? & 1\\\\\n",
       "\\end{tabular}\n"
      ],
      "text/markdown": [
       "\n",
       "A spec_tbl_df: 123 × 14\n",
       "\n",
       "| age &lt;dbl&gt; | sex &lt;dbl&gt; | chest_pain &lt;dbl&gt; | trestbps &lt;chr&gt; | chol &lt;dbl&gt; | fasting_bld_sgar &lt;chr&gt; | restecg &lt;chr&gt; | max_heart_rate &lt;chr&gt; | exerc_angina &lt;chr&gt; | oldpeak &lt;chr&gt; | slope &lt;chr&gt; | ca &lt;chr&gt; | thal &lt;chr&gt; | diagnosis &lt;dbl&gt; |\n",
       "|---|---|---|---|---|---|---|---|---|---|---|---|---|---|\n",
       "| 32 | 1 | 1 | 95  | 0 | ? | 0 | 127 | 0 | .7 | 1 | ? | ? | 1 |\n",
       "| 34 | 1 | 4 | 115 | 0 | ? | ? | 154 | 0 | .2 | 1 | ? | ? | 1 |\n",
       "| 35 | 1 | 4 | ?   | 0 | ? | 0 | 130 | 1 | ?  | ? | ? | 7 | 3 |\n",
       "| ⋮ | ⋮ | ⋮ | ⋮ | ⋮ | ⋮ | ⋮ | ⋮ | ⋮ | ⋮ | ⋮ | ⋮ | ⋮ | ⋮ |\n",
       "| 72 | 1 | 3 | 160 | 0 | ? | 2 | 114 | 0 | 1.6 | 2 | 2 | ? | 0 |\n",
       "| 73 | 0 | 3 | 160 | 0 | 0 | 1 | 121 | 0 | 0   | 1 | ? | 3 | 1 |\n",
       "| 74 | 1 | 2 | 145 | 0 | ? | 1 | 123 | 0 | 1.3 | 1 | ? | ? | 1 |\n",
       "\n"
      ],
      "text/plain": [
       "    age sex chest_pain trestbps chol fasting_bld_sgar restecg max_heart_rate\n",
       "1   32  1   1          95       0    ?                0       127           \n",
       "2   34  1   4          115      0    ?                ?       154           \n",
       "3   35  1   4          ?        0    ?                0       130           \n",
       "⋮   ⋮   ⋮   ⋮          ⋮        ⋮    ⋮                ⋮       ⋮             \n",
       "121 72  1   3          160      0    ?                2       114           \n",
       "122 73  0   3          160      0    0                1       121           \n",
       "123 74  1   2          145      0    ?                1       123           \n",
       "    exerc_angina oldpeak slope ca thal diagnosis\n",
       "1   0            .7      1     ?  ?    1        \n",
       "2   0            .2      1     ?  ?    1        \n",
       "3   1            ?       ?     ?  7    3        \n",
       "⋮   ⋮            ⋮       ⋮     ⋮  ⋮    ⋮        \n",
       "121 0            1.6     2     2  ?    0        \n",
       "122 0            0       1     ?  3    1        \n",
       "123 0            1.3     1     ?  ?    1        "
      ]
     },
     "metadata": {},
     "output_type": "display_data"
    }
   ],
   "source": [
    "# downloading and reading data, naming columns\n",
    "url <- \"https://raw.githubusercontent.com/ssun05/dsci_100_002_group5_project/main/processed.switzerland.data\"\n",
    "# download.file(url, \"heart_data.csv\")\n",
    "heart_data <- read_csv(\"heart_data.csv\", col_names = c(\"age\", \"sex\", \"chest_pain\", \"trestbps\", \"chol\", \"fasting_bld_sgar\",\n",
    "                                                      \"restecg\", \"max_heart_rate\", \"exerc_angina\", \"oldpeak\", \"slope\", \"ca\", \"thal\", \"diagnosis\"))\n",
    "\n",
    "heart_data  "
   ]
  },
  {
   "cell_type": "code",
   "execution_count": 18,
   "id": "341dbb4f-bade-4172-8302-54fff862b9f1",
   "metadata": {},
   "outputs": [
    {
     "data": {
      "text/html": [
       "<table class=\"dataframe\">\n",
       "<caption>A tibble: 2 × 2</caption>\n",
       "<thead>\n",
       "\t<tr><th scope=col>sex</th><th scope=col>count</th></tr>\n",
       "\t<tr><th scope=col>&lt;dbl&gt;</th><th scope=col>&lt;int&gt;</th></tr>\n",
       "</thead>\n",
       "<tbody>\n",
       "\t<tr><td>0</td><td> 10</td></tr>\n",
       "\t<tr><td>1</td><td>113</td></tr>\n",
       "</tbody>\n",
       "</table>\n"
      ],
      "text/latex": [
       "A tibble: 2 × 2\n",
       "\\begin{tabular}{ll}\n",
       " sex & count\\\\\n",
       " <dbl> & <int>\\\\\n",
       "\\hline\n",
       "\t 0 &  10\\\\\n",
       "\t 1 & 113\\\\\n",
       "\\end{tabular}\n"
      ],
      "text/markdown": [
       "\n",
       "A tibble: 2 × 2\n",
       "\n",
       "| sex &lt;dbl&gt; | count &lt;int&gt; |\n",
       "|---|---|\n",
       "| 0 |  10 |\n",
       "| 1 | 113 |\n",
       "\n"
      ],
      "text/plain": [
       "  sex count\n",
       "1 0    10  \n",
       "2 1   113  "
      ]
     },
     "metadata": {},
     "output_type": "display_data"
    }
   ],
   "source": [
    "# choosing sex (could result in physiological differences in predictors)\n",
    "# note that 1 is male and 0 is female\n",
    "sex_count <- heart_data |> \n",
    "            group_by(sex) |>\n",
    "            summarize(count = n())\n",
    "\n",
    "sex_count\n",
    "# 113 males and 10 females, males better sample size"
   ]
  },
  {
   "cell_type": "code",
   "execution_count": 25,
   "id": "71162d2f-ec01-4983-936a-0f85471b7fe5",
   "metadata": {},
   "outputs": [
    {
     "data": {
      "text/html": [
       "<table class=\"dataframe\">\n",
       "<caption>A tibble: 113 × 14</caption>\n",
       "<thead>\n",
       "\t<tr><th scope=col>age</th><th scope=col>sex</th><th scope=col>chest_pain</th><th scope=col>trestbps</th><th scope=col>chol</th><th scope=col>fasting_bld_sgar</th><th scope=col>restecg</th><th scope=col>max_heart_rate</th><th scope=col>exerc_angina</th><th scope=col>oldpeak</th><th scope=col>slope</th><th scope=col>ca</th><th scope=col>thal</th><th scope=col>diagnosis</th></tr>\n",
       "\t<tr><th scope=col>&lt;dbl&gt;</th><th scope=col>&lt;dbl&gt;</th><th scope=col>&lt;dbl&gt;</th><th scope=col>&lt;chr&gt;</th><th scope=col>&lt;dbl&gt;</th><th scope=col>&lt;chr&gt;</th><th scope=col>&lt;chr&gt;</th><th scope=col>&lt;chr&gt;</th><th scope=col>&lt;chr&gt;</th><th scope=col>&lt;chr&gt;</th><th scope=col>&lt;chr&gt;</th><th scope=col>&lt;chr&gt;</th><th scope=col>&lt;chr&gt;</th><th scope=col>&lt;fct&gt;</th></tr>\n",
       "</thead>\n",
       "<tbody>\n",
       "\t<tr><td>32</td><td>1</td><td>1</td><td>95 </td><td>0</td><td>?</td><td>0</td><td>127</td><td>0</td><td>.7</td><td>1</td><td>?</td><td>?</td><td>1</td></tr>\n",
       "\t<tr><td>34</td><td>1</td><td>4</td><td>115</td><td>0</td><td>?</td><td>?</td><td>154</td><td>0</td><td>.2</td><td>1</td><td>?</td><td>?</td><td>1</td></tr>\n",
       "\t<tr><td>35</td><td>1</td><td>4</td><td>?  </td><td>0</td><td>?</td><td>0</td><td>130</td><td>1</td><td>? </td><td>?</td><td>?</td><td>7</td><td>3</td></tr>\n",
       "\t<tr><td>⋮</td><td>⋮</td><td>⋮</td><td>⋮</td><td>⋮</td><td>⋮</td><td>⋮</td><td>⋮</td><td>⋮</td><td>⋮</td><td>⋮</td><td>⋮</td><td>⋮</td><td>⋮</td></tr>\n",
       "\t<tr><td>70</td><td>1</td><td>4</td><td>140</td><td>0</td><td>1</td><td>0</td><td>157</td><td>1</td><td>2  </td><td>2</td><td>?</td><td>7</td><td>3   </td></tr>\n",
       "\t<tr><td>72</td><td>1</td><td>3</td><td>160</td><td>0</td><td>?</td><td>2</td><td>114</td><td>0</td><td>1.6</td><td>2</td><td>2</td><td>?</td><td>none</td></tr>\n",
       "\t<tr><td>74</td><td>1</td><td>2</td><td>145</td><td>0</td><td>?</td><td>1</td><td>123</td><td>0</td><td>1.3</td><td>1</td><td>?</td><td>?</td><td>1   </td></tr>\n",
       "</tbody>\n",
       "</table>\n"
      ],
      "text/latex": [
       "A tibble: 113 × 14\n",
       "\\begin{tabular}{llllllllllllll}\n",
       " age & sex & chest\\_pain & trestbps & chol & fasting\\_bld\\_sgar & restecg & max\\_heart\\_rate & exerc\\_angina & oldpeak & slope & ca & thal & diagnosis\\\\\n",
       " <dbl> & <dbl> & <dbl> & <chr> & <dbl> & <chr> & <chr> & <chr> & <chr> & <chr> & <chr> & <chr> & <chr> & <fct>\\\\\n",
       "\\hline\n",
       "\t 32 & 1 & 1 & 95  & 0 & ? & 0 & 127 & 0 & .7 & 1 & ? & ? & 1\\\\\n",
       "\t 34 & 1 & 4 & 115 & 0 & ? & ? & 154 & 0 & .2 & 1 & ? & ? & 1\\\\\n",
       "\t 35 & 1 & 4 & ?   & 0 & ? & 0 & 130 & 1 & ?  & ? & ? & 7 & 3\\\\\n",
       "\t ⋮ & ⋮ & ⋮ & ⋮ & ⋮ & ⋮ & ⋮ & ⋮ & ⋮ & ⋮ & ⋮ & ⋮ & ⋮ & ⋮\\\\\n",
       "\t 70 & 1 & 4 & 140 & 0 & 1 & 0 & 157 & 1 & 2   & 2 & ? & 7 & 3   \\\\\n",
       "\t 72 & 1 & 3 & 160 & 0 & ? & 2 & 114 & 0 & 1.6 & 2 & 2 & ? & none\\\\\n",
       "\t 74 & 1 & 2 & 145 & 0 & ? & 1 & 123 & 0 & 1.3 & 1 & ? & ? & 1   \\\\\n",
       "\\end{tabular}\n"
      ],
      "text/markdown": [
       "\n",
       "A tibble: 113 × 14\n",
       "\n",
       "| age &lt;dbl&gt; | sex &lt;dbl&gt; | chest_pain &lt;dbl&gt; | trestbps &lt;chr&gt; | chol &lt;dbl&gt; | fasting_bld_sgar &lt;chr&gt; | restecg &lt;chr&gt; | max_heart_rate &lt;chr&gt; | exerc_angina &lt;chr&gt; | oldpeak &lt;chr&gt; | slope &lt;chr&gt; | ca &lt;chr&gt; | thal &lt;chr&gt; | diagnosis &lt;fct&gt; |\n",
       "|---|---|---|---|---|---|---|---|---|---|---|---|---|---|\n",
       "| 32 | 1 | 1 | 95  | 0 | ? | 0 | 127 | 0 | .7 | 1 | ? | ? | 1 |\n",
       "| 34 | 1 | 4 | 115 | 0 | ? | ? | 154 | 0 | .2 | 1 | ? | ? | 1 |\n",
       "| 35 | 1 | 4 | ?   | 0 | ? | 0 | 130 | 1 | ?  | ? | ? | 7 | 3 |\n",
       "| ⋮ | ⋮ | ⋮ | ⋮ | ⋮ | ⋮ | ⋮ | ⋮ | ⋮ | ⋮ | ⋮ | ⋮ | ⋮ | ⋮ |\n",
       "| 70 | 1 | 4 | 140 | 0 | 1 | 0 | 157 | 1 | 2   | 2 | ? | 7 | 3    |\n",
       "| 72 | 1 | 3 | 160 | 0 | ? | 2 | 114 | 0 | 1.6 | 2 | 2 | ? | none |\n",
       "| 74 | 1 | 2 | 145 | 0 | ? | 1 | 123 | 0 | 1.3 | 1 | ? | ? | 1    |\n",
       "\n"
      ],
      "text/plain": [
       "    age sex chest_pain trestbps chol fasting_bld_sgar restecg max_heart_rate\n",
       "1   32  1   1          95       0    ?                0       127           \n",
       "2   34  1   4          115      0    ?                ?       154           \n",
       "3   35  1   4          ?        0    ?                0       130           \n",
       "⋮   ⋮   ⋮   ⋮          ⋮        ⋮    ⋮                ⋮       ⋮             \n",
       "111 70  1   4          140      0    1                0       157           \n",
       "112 72  1   3          160      0    ?                2       114           \n",
       "113 74  1   2          145      0    ?                1       123           \n",
       "    exerc_angina oldpeak slope ca thal diagnosis\n",
       "1   0            .7      1     ?  ?    1        \n",
       "2   0            .2      1     ?  ?    1        \n",
       "3   1            ?       ?     ?  7    3        \n",
       "⋮   ⋮            ⋮       ⋮     ⋮  ⋮    ⋮        \n",
       "111 1            2       2     ?  7    3        \n",
       "112 0            1.6     2     2  ?    none     \n",
       "113 0            1.3     1     ?  ?    1        "
      ]
     },
     "metadata": {},
     "output_type": "display_data"
    }
   ],
   "source": [
    "# filter for males and reclass diagnosis as factor, make labels understandable\n",
    "heart_data_males <- heart_data |>\n",
    "                    filter(sex == 1) |> \n",
    "                    mutate(diagnosis = as_factor(diagnosis)) |>\n",
    "                     mutate(diagnosis = fct_recode(diagnosis, \"none\" = \"0\"))\n",
    "\n",
    "heart_data_males"
   ]
  },
  {
   "cell_type": "code",
   "execution_count": 26,
   "id": "8f1c7b93-eb14-49c5-8b2e-de1577653d8f",
   "metadata": {},
   "outputs": [
    {
     "data": {
      "text/html": [
       "<table class=\"dataframe\">\n",
       "<caption>A tibble: 5 × 2</caption>\n",
       "<thead>\n",
       "\t<tr><th scope=col>diagnosis</th><th scope=col>count</th></tr>\n",
       "\t<tr><th scope=col>&lt;fct&gt;</th><th scope=col>&lt;int&gt;</th></tr>\n",
       "</thead>\n",
       "<tbody>\n",
       "\t<tr><td>none</td><td> 8</td></tr>\n",
       "\t<tr><td>1   </td><td>42</td></tr>\n",
       "\t<tr><td>2   </td><td>29</td></tr>\n",
       "\t<tr><td>3   </td><td>29</td></tr>\n",
       "\t<tr><td>4   </td><td> 5</td></tr>\n",
       "</tbody>\n",
       "</table>\n"
      ],
      "text/latex": [
       "A tibble: 5 × 2\n",
       "\\begin{tabular}{ll}\n",
       " diagnosis & count\\\\\n",
       " <fct> & <int>\\\\\n",
       "\\hline\n",
       "\t none &  8\\\\\n",
       "\t 1    & 42\\\\\n",
       "\t 2    & 29\\\\\n",
       "\t 3    & 29\\\\\n",
       "\t 4    &  5\\\\\n",
       "\\end{tabular}\n"
      ],
      "text/markdown": [
       "\n",
       "A tibble: 5 × 2\n",
       "\n",
       "| diagnosis &lt;fct&gt; | count &lt;int&gt; |\n",
       "|---|---|\n",
       "| none |  8 |\n",
       "| 1    | 42 |\n",
       "| 2    | 29 |\n",
       "| 3    | 29 |\n",
       "| 4    |  5 |\n",
       "\n"
      ],
      "text/plain": [
       "  diagnosis count\n",
       "1 none       8   \n",
       "2 1         42   \n",
       "3 2         29   \n",
       "4 3         29   \n",
       "5 4          5   "
      ]
     },
     "metadata": {},
     "output_type": "display_data"
    }
   ],
   "source": [
    "# table of diagnosis counts\n",
    "label_counts <- heart_data_males |>\n",
    "                group_by(diagnosis) |>\n",
    "                summarize(count = n())\n",
    "\n",
    "label_counts"
   ]
  },
  {
   "cell_type": "code",
   "execution_count": 3,
   "id": "6ba9fb2f-a054-4878-8e6e-93e0bdf495bc",
   "metadata": {},
   "outputs": [],
   "source": [
    "# summary - eg. predictor distributions"
   ]
  },
  {
   "cell_type": "markdown",
   "id": "b1fe6371-3d58-41b5-9971-e44326c4fc3f",
   "metadata": {},
   "source": [
    "## Methods"
   ]
  },
  {
   "cell_type": "markdown",
   "id": "38132a33-49f8-4e2c-8e9d-eb2f41ec8326",
   "metadata": {},
   "source": [
    "## Expected Outcomes and Significance"
   ]
  },
  {
   "cell_type": "code",
   "execution_count": null,
   "id": "a90799ce-dba4-4ca1-b34a-5673e66981e6",
   "metadata": {},
   "outputs": [],
   "source": []
  }
 ],
 "metadata": {
  "kernelspec": {
   "display_name": "R",
   "language": "R",
   "name": "ir"
  },
  "language_info": {
   "codemirror_mode": "r",
   "file_extension": ".r",
   "mimetype": "text/x-r-source",
   "name": "R",
   "pygments_lexer": "r",
   "version": "4.3.1"
  }
 },
 "nbformat": 4,
 "nbformat_minor": 5
}
